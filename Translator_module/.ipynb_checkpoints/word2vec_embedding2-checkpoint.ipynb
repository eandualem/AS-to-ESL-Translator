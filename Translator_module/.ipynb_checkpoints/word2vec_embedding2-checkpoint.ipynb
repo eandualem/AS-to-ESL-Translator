{
 "cells": [
  {
   "cell_type": "code",
   "execution_count": 0,
   "metadata": {
    "colab": {},
    "colab_type": "code",
    "id": "SgfzPzLx9unC"
   },
   "outputs": [],
   "source": [
    "#from colab word2vec updated\n",
    "import time\n",
    "import numpy as np\n",
    "%tensorflow_version 1.x\n",
    "import tensorflow as tf\n",
    "import preprocess_util\n",
    "from collections import Counter\n",
    "import random\n"
   ]
  },
  {
   "cell_type": "code",
   "execution_count": 0,
   "metadata": {
    "colab": {},
    "colab_type": "code",
    "id": "1sPIcn09kOUx"
   },
   "outputs": [],
   "source": [
    "#!ln -s ./drive/My\\ Drive/HornMorph/\n",
    "#!ln -s ./drive/My\\ Drive/Amh2Amh_v3_checked/embedding_checkpoints/\n",
    "#!ln -s ./drive/My\\ Drive/Amh2Amh_v3_checked/translating_checkpoints/\n",
    "#!ln -s ./drive/My\\ Drive/Amh2Amh_v3_checked/Translator_module2/* ./"
   ]
  },
  {
   "cell_type": "code",
   "execution_count": 0,
   "metadata": {
    "colab": {},
    "colab_type": "code",
    "id": "2j7XOtKG9unI"
   },
   "outputs": [],
   "source": [
    "RAW_DATA_FLD = \"./raw_data\"\n",
    "RAW_DATA_FILE = \"amharic.txt\"\n",
    "CLEANED_DATA_SAVE_PATH = \"./processed_data/cleaned_amh_text.txt\"\n",
    "\n",
    "\n",
    "DATA_SRC_HIS = RAW_DATA_FLD + \"/Amharic_English_History/\" + RAW_DATA_FILE\n",
    "DATA_SRC_NEWS = RAW_DATA_FLD + \"/Amharic_English_News/\" + RAW_DATA_FILE\n",
    "DATA_SRC_LAW = RAW_DATA_FLD + \"/Amharic_English_Legal/\" + RAW_DATA_FILE\n",
    "DATA_SRC_ETH_BIBLE = RAW_DATA_FLD + \"/Amharic_English_Ethiopic_Bible/\" + RAW_DATA_FILE\n",
    "DATA_SRC_JW_BIBLW = RAW_DATA_FLD + \"/Amharic_English_JW_Bible/\" + RAW_DATA_FILE\n"
   ]
  },
  {
   "cell_type": "code",
   "execution_count": 0,
   "metadata": {
    "colab": {},
    "colab_type": "code",
    "id": "hxUT_SI_9unL"
   },
   "outputs": [],
   "source": [
    "with open(DATA_SRC_HIS) as f:\n",
    "    text_his = f.read()\n",
    "\n",
    "with open(DATA_SRC_NEWS) as f:\n",
    "    text_news = f.read()\n",
    "\n",
    "with open(DATA_SRC_LAW) as f:\n",
    "    text_law = f.read()\n",
    "\n",
    "with open(DATA_SRC_ETH_BIBLE) as f:\n",
    "    text_ebible = f.read()\n",
    "\n",
    "with open(DATA_SRC_ETH_BIBLE) as f:\n",
    "    text_jw_bible = f.read()"
   ]
  },
  {
   "cell_type": "code",
   "execution_count": 0,
   "metadata": {
    "colab": {},
    "colab_type": "code",
    "id": "D-moLe9c9unO"
   },
   "outputs": [],
   "source": [
    "raw_text = text_his + \" \" + text_news + \" \" + text_law + \" \" + text_ebible + \" \" + text_jw_bible"
   ]
  },
  {
   "cell_type": "code",
   "execution_count": 0,
   "metadata": {
    "colab": {},
    "colab_type": "code",
    "id": "8e1IFXrq9unR"
   },
   "outputs": [],
   "source": [
    "cleaned_text = preprocess_util.clean_data(raw_text, save=True, savePath=CLEANED_DATA_SAVE_PATH)"
   ]
  },
  {
   "cell_type": "code",
   "execution_count": 0,
   "metadata": {
    "colab": {},
    "colab_type": "code",
    "id": "gG-38rk99unU"
   },
   "outputs": [],
   "source": [
    "#checkpoin1 cleaned data"
   ]
  },
  {
   "cell_type": "code",
   "execution_count": 0,
   "metadata": {
    "colab": {},
    "colab_type": "code",
    "id": "LvdxuyhR9unX"
   },
   "outputs": [],
   "source": [
    "import word2vec_helper as helper\n",
    "import time\n",
    "import numpy as np\n",
    "%tensorflow_version 1.x\n",
    "import tensorflow as tf\n",
    "import preprocess_util\n",
    "from collections import Counter\n",
    "import random"
   ]
  },
  {
   "cell_type": "code",
   "execution_count": 0,
   "metadata": {
    "colab": {},
    "colab_type": "code",
    "id": "fw5pm1xG9una"
   },
   "outputs": [],
   "source": [
    "with open(CLEANED_DATA_SAVE_PATH) as f:\n",
    "    cleaned_text = f.read()"
   ]
  },
  {
   "cell_type": "code",
   "execution_count": 0,
   "metadata": {
    "colab": {},
    "colab_type": "code",
    "id": "X2Qs374t9und"
   },
   "outputs": [],
   "source": [
    "tokenized_text, lemmatized_tokenized_text = helper.tokenize(cleaned_text, 3)"
   ]
  },
  {
   "cell_type": "code",
   "execution_count": 0,
   "metadata": {
    "colab": {
     "base_uri": "https://localhost:8080/",
     "height": 34
    },
    "colab_type": "code",
    "executionInfo": {
     "elapsed": 1477,
     "status": "ok",
     "timestamp": 1590505202533,
     "user": {
      "displayName": "daniel zelalem",
      "photoUrl": "",
      "userId": "02433931898077353749"
     },
     "user_tz": -180
    },
    "id": "M8NdO5m09ung",
    "outputId": "9a1ff550-c320-4fca-9b46-d6a90b0401cc"
   },
   "outputs": [
    {
     "name": "stdout",
     "output_type": "stream",
     "text": [
      "lemmatized_token_saved...\n"
     ]
    }
   ],
   "source": [
    "preprocess_util.save_dump(\"./amh_lemmatized_tokens.p\", lemmatized_tokenized_text)\n",
    "print(\"lemmatized_token_saved...\")\n",
    "#checkpoint 2"
   ]
  },
  {
   "cell_type": "code",
   "execution_count": 0,
   "metadata": {
    "colab": {},
    "colab_type": "code",
    "id": "y23BGuGu9unj"
   },
   "outputs": [],
   "source": [
    "lemmatized_tokenized_text = preprocess_util.load_file(\"./amh_lemmatized_tokens.p\")"
   ]
  },
  {
   "cell_type": "code",
   "execution_count": 0,
   "metadata": {
    "colab": {},
    "colab_type": "code",
    "id": "qsl2Ldk09unl"
   },
   "outputs": [],
   "source": [
    "vocab_to_int, int_to_vocab = helper.create_lookup_tables(lemmatized_tokenized_text)\n"
   ]
  },
  {
   "cell_type": "code",
   "execution_count": 0,
   "metadata": {
    "colab": {},
    "colab_type": "code",
    "id": "RHKrszRA9uno"
   },
   "outputs": [],
   "source": [
    "int_words = [vocab_to_int[word] for word in lemmatized_tokenized_text]"
   ]
  },
  {
   "cell_type": "code",
   "execution_count": 0,
   "metadata": {
    "colab": {},
    "colab_type": "code",
    "id": "BmfgdrdP9unt"
   },
   "outputs": [],
   "source": [
    "threshold = 1e-5\n",
    "word_counts = Counter(int_words)\n",
    "total_count = len(int_words)\n",
    "freqs = {word: count/total_count for word, count in word_counts.items()}\n",
    "p_drop = {word: 1 - np.sqrt(threshold/freqs[word]) for word in word_counts}\n",
    "train_words = [word for word in int_words if random.random() < (1 - p_drop[word])]"
   ]
  },
  {
   "cell_type": "code",
   "execution_count": 0,
   "metadata": {
    "colab": {},
    "colab_type": "code",
    "id": "BjEZ2qj79unx"
   },
   "outputs": [],
   "source": [
    "def get_target(words, idx, window_size=5):\n",
    "    ''' Get a list of words in a window around an index. '''\n",
    "    \n",
    "    R = np.random.randint(1, window_size+1)\n",
    "    start = idx - R if (idx - R) > 0 else 0\n",
    "    stop = idx + R\n",
    "    target_words = set(words[start:idx] + words[idx+1:stop+1])\n",
    "    \n",
    "    return list(target_words)"
   ]
  },
  {
   "cell_type": "code",
   "execution_count": 0,
   "metadata": {
    "colab": {},
    "colab_type": "code",
    "id": "6ZY9wxmX9unz"
   },
   "outputs": [],
   "source": [
    "def get_batches(words, batch_size, window_size=5):\n",
    "    n_batches = len(words)//batch_size\n",
    "    words = words[:n_batches*batch_size]\n",
    "    \n",
    "    for idx in range(0, len(words), batch_size):\n",
    "        x, y = [], []\n",
    "        batch = words[idx:idx+batch_size]\n",
    "        for ii in range(len(batch)):\n",
    "            batch_x = batch[ii]\n",
    "            batch_y = get_target(batch, ii, window_size)\n",
    "            y.extend(batch_y)\n",
    "            x.extend([batch_x]*len(batch_y))\n",
    "        yield x, y"
   ]
  },
  {
   "cell_type": "code",
   "execution_count": 0,
   "metadata": {
    "colab": {},
    "colab_type": "code",
    "id": "693FPHuL9un1"
   },
   "outputs": [],
   "source": [
    "train_graph = tf.Graph()\n",
    "with train_graph.as_default():\n",
    "    inputs = tf.placeholder(tf.int32, [None], name='inputs')\n",
    "    labels = tf.placeholder(tf.int32, [None, None], name='labels')"
   ]
  },
  {
   "cell_type": "code",
   "execution_count": 0,
   "metadata": {
    "colab": {},
    "colab_type": "code",
    "id": "Xb9ibLMV9un5"
   },
   "outputs": [],
   "source": [
    "n_vocab = len(int_to_vocab)\n",
    "n_embedding =  256\n",
    "with train_graph.as_default():\n",
    "    embedding = tf.Variable(tf.random_uniform((n_vocab, n_embedding), -1, 1))\n",
    "    embed = tf.nn.embedding_lookup(embedding, inputs)"
   ]
  },
  {
   "cell_type": "code",
   "execution_count": 0,
   "metadata": {
    "colab": {},
    "colab_type": "code",
    "id": "Ks0Esr0G9un7"
   },
   "outputs": [],
   "source": [
    "n_sampled = 100\n",
    "with train_graph.as_default():\n",
    "    softmax_w = tf.Variable(tf.truncated_normal((n_vocab, n_embedding), stddev=0.1))\n",
    "    softmax_b = tf.zeros(n_vocab)\n",
    "    \n",
    "    # Calculate the loss using negative sampling\n",
    "    loss = tf.nn.sampled_softmax_loss(softmax_w, softmax_b, \n",
    "                                      labels, embed,\n",
    "                                      n_sampled, n_vocab) \n",
    "    \n",
    "    cost = tf.reduce_mean(loss)\n",
    "    optimizer = tf.train.AdamOptimizer().minimize(cost)"
   ]
  },
  {
   "cell_type": "code",
   "execution_count": 0,
   "metadata": {
    "colab": {},
    "colab_type": "code",
    "id": "_-F5ELHk9un-"
   },
   "outputs": [],
   "source": [
    "with train_graph.as_default():\n",
    "    ## From Thushan Ganegedara's implementation\n",
    "    valid_size = 10 # Random set of words to evaluate similarity on.\n",
    "    valid_window = 100\n",
    "    # pick 5 samples from (0,100) and (1000,1100) each ranges. lower id implies more frequent \n",
    "    valid_examples = np.array(random.sample(range(valid_window), valid_size//2))\n",
    "    valid_examples = np.append(valid_examples, \n",
    "                               random.sample(range(1000,1000+valid_window), valid_size//2))\n",
    "\n",
    "    valid_dataset = tf.constant(valid_examples, dtype=tf.int32)\n",
    "    \n",
    "    # We use the cosine distance:\n",
    "    norm = tf.sqrt(tf.reduce_sum(tf.square(embedding), 1, keep_dims=True))\n",
    "    normalized_embedding = embedding / norm\n",
    "    valid_embedding = tf.nn.embedding_lookup(normalized_embedding, valid_dataset)\n",
    "    similarity = tf.matmul(valid_embedding, tf.transpose(normalized_embedding))"
   ]
  },
  {
   "cell_type": "code",
   "execution_count": 0,
   "metadata": {
    "colab": {},
    "colab_type": "code",
    "id": "7I-8t-kX9uoA"
   },
   "outputs": [],
   "source": [
    "#!mkdir embedding_checkpoints"
   ]
  },
  {
   "cell_type": "code",
   "execution_count": 0,
   "metadata": {
    "colab": {},
    "colab_type": "code",
    "id": "kdqjgyHN9uoC"
   },
   "outputs": [],
   "source": [
    "epochs = 400\n",
    "batch_size = 2000\n",
    "window_size = 5\n",
    "\n",
    "with train_graph.as_default():\n",
    "    saver = tf.train.Saver()\n",
    "\n",
    "with tf.Session(graph=train_graph) as sess:\n",
    "    iteration = 1\n",
    "    loss = 0\n",
    "    sess.run(tf.global_variables_initializer())\n",
    "\n",
    "    for e in range(1, epochs+1):\n",
    "        batches = get_batches(train_words, batch_size, window_size)\n",
    "        start = time.time()\n",
    "        for x, y in batches:\n",
    "            \n",
    "            feed = {inputs: x,\n",
    "                    labels: np.array(y)[:, None]}\n",
    "            train_loss, _ = sess.run([cost, optimizer], feed_dict=feed)\n",
    "            \n",
    "            loss += train_loss\n",
    "            \n",
    "            if iteration % 100 == 0: \n",
    "                end = time.time()\n",
    "                print(\"Epoch {}/{}\".format(e, epochs),\n",
    "                      \"Iteration: {}\".format(iteration),\n",
    "                      \"Avg. Training loss: {:.4f}\".format(loss/100),\n",
    "                      \"{:.4f} sec/batch\".format((end-start)/100))\n",
    "                loss = 0\n",
    "                start = time.time()\n",
    "            \n",
    "            if iteration % 1000 == 0:\n",
    "                ## From Thushan Ganegedara's implementation\n",
    "                # note that this is expensive (~20% slowdown if computed every 500 steps)\n",
    "                sim = similarity.eval()\n",
    "                for i in range(valid_size):\n",
    "                    valid_word = int_to_vocab[valid_examples[i]]\n",
    "                    top_k = 8 # number of nearest neighbors\n",
    "                    nearest = (-sim[i, :]).argsort()[1:top_k+1]\n",
    "                    log = 'Nearest to %s:' % valid_word\n",
    "                    for k in range(top_k):\n",
    "                        close_word = int_to_vocab[nearest[k]]\n",
    "                        log = '%s %s,' % (log, close_word)\n",
    "                    print(log)\n",
    "            \n",
    "            iteration += 1\n",
    "    save_path = saver.save(sess, \"embedding_checkpoints/amh_emebdding.ckpt\")\n",
    "    embed_mat = sess.run(normalized_embedding)"
   ]
  },
  {
   "cell_type": "code",
   "execution_count": 0,
   "metadata": {
    "colab": {},
    "colab_type": "code",
    "id": "V3b7mkmp9uoF"
   },
   "outputs": [],
   "source": [
    "preprocess_util.save_dump(\"./amh_vocab_mapping.p\",(int_to_vocab, vocab_to_int))"
   ]
  }
 ],
 "metadata": {
  "accelerator": "GPU",
  "colab": {
   "collapsed_sections": [],
   "name": "word2vec_embedding2.ipynb",
   "provenance": []
  },
  "kernelspec": {
   "display_name": "Python 3",
   "language": "python",
   "name": "python3"
  },
  "language_info": {
   "codemirror_mode": {
    "name": "ipython",
    "version": 3
   },
   "file_extension": ".py",
   "mimetype": "text/x-python",
   "name": "python",
   "nbconvert_exporter": "python",
   "pygments_lexer": "ipython3",
   "version": "3.7.6"
  }
 },
 "nbformat": 4,
 "nbformat_minor": 1
}
